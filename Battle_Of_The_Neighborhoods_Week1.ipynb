{
 "cells": [
  {
   "cell_type": "markdown",
   "metadata": {},
   "source": [
    "### IBM Data Science Capstone Project - Battle of the Neighborhoods Week 1"
   ]
  },
  {
   "cell_type": "markdown",
   "metadata": {},
   "source": [
    "###### By Martin Palkovic, Geoscientist at Colorado School of Mines"
   ]
  },
  {
   "cell_type": "code",
   "execution_count": 2,
   "metadata": {},
   "outputs": [],
   "source": [
    "import pandas as pd\n",
    "import numpy as np"
   ]
  },
  {
   "cell_type": "code",
   "execution_count": 2,
   "metadata": {},
   "outputs": [
    {
     "name": "stdout",
     "output_type": "stream",
     "text": [
      "Hello Capstone Project Course!\n"
     ]
    }
   ],
   "source": [
    "print (\"Hello Capstone Project Course!\")"
   ]
  },
  {
   "cell_type": "markdown",
   "metadata": {},
   "source": [
    "# Battle of the Neighborhoods, Denver, Colorado Edition - Introduction"
   ]
  },
  {
   "cell_type": "markdown",
   "metadata": {},
   "source": [
    "## Introduction/Business Problem\n",
    "\n",
    "##### The objective of this project will be to determine a good location for a new brewery in the City of Denver, Colorado. Denver is a popular city for young people, and the brewery scene is thriving here. Despite the fact that a few neighborhoods are saturated with breweries, there are likely many other neighborhoods that could sustain additional breweries. I'm hypothesizing that a detailed, data science based/machine learning analysis of the current venues in the city will help me clarify which neighborhoods are good candidates to build a new brewery.\n",
    "\n",
    "## Data\n",
    "### Datasets needed:\n",
    "##### -City of Denver Statistical Neighborhoods (https://www.denvergov.org/opendata/dataset/city-and-county-of-denver-statistical-neighborhoods). The city of Denver has many great, free datasets available for download through their Open Data portal. This is a dataset of polygon features for all 76 named neighborhoods in Denver.\n",
    "\n",
    "##### - Foursquare API (https://foursquare.com/). Foursquare is a location data company, with data similar to that of Yelp or Google Maps. The one main advantage of Foursquare is its excellent API, which allows programmers to pull data for their own apps, projects etc. I'll be downloading venue data (restaurants, coffee shops, nail salons, bars etc are all considered venues) for all of Denver, and then I'll clean the data to only display the breweries.\n",
    "\n",
    "### Workflow:\n",
    "##### I'll download data from the city of Denver's website for each neighborhood in the city, write a function to call the Foursquare API to get data on venues in each neighborhood, create various maps with the Folium library, perform one hot encoding, and finally, run a machine learning clustering algorithm (K-Means) to determine which neighborhoods are good candidates for a new brewery. The final result will be a Pandas dataframe of the best neighborhoods for a new brewery. There will be lots of intermediate data cleaning en route to the final product.\n",
    "\n",
    "#### Libraries used in this project:\n",
    "##### - Pandas (Data analysis library)\n",
    "##### - GeoPandas (Data analysis library for geospatial data)\n",
    "##### - Matplotlib (Data visualization library)\n",
    "##### - NumPy (Scientific computing library)\n",
    "##### - Scikit-learn (Machine learning library)\n",
    "##### - JSON (Reading and writing JSON files)\n",
    "##### - Requests (used when reading JSON files)\n",
    "##### - Random (Generates random values)\n",
    "##### - Folium (Geospatial/mapping library)\n",
    "##### - Geocoder (retrieves latitude/longitude coordinates for an address)\n",
    "\n",
    "\n",
    "\n"
   ]
  },
  {
   "cell_type": "code",
   "execution_count": null,
   "metadata": {},
   "outputs": [],
   "source": []
  }
 ],
 "metadata": {
  "kernelspec": {
   "display_name": "Python 3",
   "language": "python",
   "name": "python3"
  },
  "language_info": {
   "codemirror_mode": {
    "name": "ipython",
    "version": 3
   },
   "file_extension": ".py",
   "mimetype": "text/x-python",
   "name": "python",
   "nbconvert_exporter": "python",
   "pygments_lexer": "ipython3",
   "version": "3.8.3"
  }
 },
 "nbformat": 4,
 "nbformat_minor": 4
}
